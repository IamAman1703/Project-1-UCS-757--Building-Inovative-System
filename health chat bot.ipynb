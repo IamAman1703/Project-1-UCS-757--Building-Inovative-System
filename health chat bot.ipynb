{
 "cells": [
  {
   "cell_type": "markdown",
   "id": "04730198",
   "metadata": {},
   "source": [
    "# Libraries"
   ]
  },
  {
   "cell_type": "code",
   "execution_count": 1,
   "id": "8d568d58",
   "metadata": {},
   "outputs": [],
   "source": [
    "import numpy as np\n",
    "import matplotlib.pyplot as plt\n",
    "import pandas as pd"
   ]
  },
  {
   "cell_type": "markdown",
   "id": "30a8a0d4",
   "metadata": {},
   "source": [
    "***Loading Basic dataset***"
   ]
  },
  {
   "cell_type": "code",
   "execution_count": 2,
   "id": "b08e8f75",
   "metadata": {},
   "outputs": [],
   "source": [
    "training_dataset = pd.read_csv('F:\\study\\misc\\Projects\\Doctor Delhi\\Training.csv')\n",
    "test_dataset = pd.read_csv('F:\\study\\misc\\Projects\\Doctor Delhi\\Testing.csv')"
   ]
  },
  {
   "cell_type": "code",
   "execution_count": 3,
   "id": "be6080d9",
   "metadata": {},
   "outputs": [],
   "source": [
    "X = training_dataset.iloc[:, 0:132].values\n",
    "y = training_dataset.iloc[:, -1].values\n",
    "dimensionality_reduction = training_dataset.groupby(training_dataset['prognosis']).max()\n"
   ]
  },
  {
   "cell_type": "markdown",
   "id": "50018462",
   "metadata": {},
   "source": [
    "***Preprocessing***"
   ]
  },
  {
   "cell_type": "code",
   "execution_count": 4,
   "id": "eea87bcd",
   "metadata": {},
   "outputs": [],
   "source": [
    "from sklearn.preprocessing import LabelEncoder\n",
    "labelencoder = LabelEncoder()\n",
    "y = labelencoder.fit_transform(y)"
   ]
  },
  {
   "cell_type": "markdown",
   "id": "ac32bba8",
   "metadata": {},
   "source": [
    "***Splitting dataset***"
   ]
  },
  {
   "cell_type": "code",
   "execution_count": 5,
   "id": "97600e1c",
   "metadata": {},
   "outputs": [],
   "source": [
    "from sklearn.model_selection import train_test_split\n",
    "X_train, X_test, y_train, y_test = train_test_split(X, y, test_size = 0.25, random_state = 0)"
   ]
  },
  {
   "cell_type": "markdown",
   "id": "d6c605f9",
   "metadata": {},
   "source": [
    "***Decision Tree Model***"
   ]
  },
  {
   "cell_type": "code",
   "execution_count": 6,
   "id": "8350aef9",
   "metadata": {},
   "outputs": [
    {
     "data": {
      "text/plain": [
       "DecisionTreeClassifier()"
      ]
     },
     "execution_count": 6,
     "metadata": {},
     "output_type": "execute_result"
    }
   ],
   "source": [
    "from sklearn.tree import DecisionTreeClassifier\n",
    "classifier = DecisionTreeClassifier()\n",
    "classifier.fit(X_train, y_train)"
   ]
  },
  {
   "cell_type": "code",
   "execution_count": 7,
   "id": "2678779e",
   "metadata": {},
   "outputs": [],
   "source": [
    "cols     = training_dataset.columns\n",
    "cols     = cols[:-1]"
   ]
  },
  {
   "cell_type": "code",
   "execution_count": 8,
   "id": "3a90878f",
   "metadata": {},
   "outputs": [],
   "source": [
    "importances = classifier.feature_importances_\n",
    "indices = np.argsort(importances)[::-1]\n",
    "features = cols\n",
    "from sklearn.tree import _tree"
   ]
  },
  {
   "cell_type": "markdown",
   "id": "dfca2202",
   "metadata": {},
   "source": [
    "**Method to simulate the working of a Chatbot by extracting and formulating questions**"
   ]
  },
  {
   "cell_type": "code",
   "execution_count": 9,
   "id": "a00d8688",
   "metadata": {},
   "outputs": [],
   "source": [
    "def execute_bot():\n",
    "\n",
    "    print(\"Please reply with yes/Yes or no/No for the following symptoms\") \n",
    "    def print_disease(node):\n",
    "        #print(node)\n",
    "        node = node[0]\n",
    "        #print(len(node))\n",
    "        val  = node.nonzero() \n",
    "        #print(val)\n",
    "        disease = labelencoder.inverse_transform(val[0])\n",
    "        return disease\n",
    "    def tree_to_code(tree, feature_names):\n",
    "        tree_ = tree.tree_\n",
    "        #print(tree_)\n",
    "        feature_name = [\n",
    "            feature_names[i] if i != _tree.TREE_UNDEFINED else \"undefined!\"\n",
    "            for i in tree_.feature\n",
    "        ]\n",
    "        #print(\"def tree({}):\".format(\", \".join(feature_names)))\n",
    "        symptoms_present = []\n",
    "        def recurse(node, depth):\n",
    "            indent = \"  \" * depth\n",
    "            if tree_.feature[node] != _tree.TREE_UNDEFINED:\n",
    "                name = feature_name[node]\n",
    "                threshold = tree_.threshold[node]\n",
    "                print(name + \" ?\")\n",
    "                ans = input()\n",
    "                ans = ans.lower()\n",
    "                if ans == 'yes':\n",
    "                    val = 1\n",
    "                else:\n",
    "                    val = 0\n",
    "                if  val <= threshold:\n",
    "                    recurse(tree_.children_left[node], depth + 1)\n",
    "                else:\n",
    "                    symptoms_present.append(name)\n",
    "                    recurse(tree_.children_right[node], depth + 1)\n",
    "            else:\n",
    "                present_disease = print_disease(tree_.value[node])\n",
    "                print( \"You may have \" +  present_disease )\n",
    "                print()\n",
    "                red_cols = dimensionality_reduction.columns \n",
    "                symptoms_given = red_cols[dimensionality_reduction.loc[present_disease].values[0].nonzero()]\n",
    "                print(\"symptoms present  \" + str(list(symptoms_present)))\n",
    "                print()\n",
    "                print(\"symptoms given \"  +  str(list(symptoms_given)) )  \n",
    "                print()\n",
    "                confidence_level = (1.0*len(symptoms_present))/len(symptoms_given)\n",
    "                print(\"confidence level is \" + str(confidence_level))\n",
    "                print()\n",
    "                print('The model suggests:')\n",
    "                print()\n",
    "                row = doctors[doctors['disease'] == present_disease[0]]\n",
    "                print('Consult ', str(row['name'].values))\n",
    "                print()\n",
    "                print('Visit ', str(row['link'].values))\n",
    "                #print(present_disease[0])\n",
    "                \n",
    "    \n",
    "        recurse(0, 1)\n",
    "    \n",
    "    tree_to_code(classifier,cols)"
   ]
  },
  {
   "cell_type": "code",
   "execution_count": 10,
   "id": "5c07df5a",
   "metadata": {},
   "outputs": [],
   "source": [
    "doc_dataset = pd.read_csv('F:\\study\\misc\\Projects\\Doctor Delhi\\doctors_dataset.csv', names = ['Name', 'Description'])"
   ]
  },
  {
   "cell_type": "code",
   "execution_count": 11,
   "id": "73ba384e",
   "metadata": {},
   "outputs": [
    {
     "data": {
      "text/html": [
       "<div>\n",
       "<style scoped>\n",
       "    .dataframe tbody tr th:only-of-type {\n",
       "        vertical-align: middle;\n",
       "    }\n",
       "\n",
       "    .dataframe tbody tr th {\n",
       "        vertical-align: top;\n",
       "    }\n",
       "\n",
       "    .dataframe thead th {\n",
       "        text-align: right;\n",
       "    }\n",
       "</style>\n",
       "<table border=\"1\" class=\"dataframe\">\n",
       "  <thead>\n",
       "    <tr style=\"text-align: right;\">\n",
       "      <th></th>\n",
       "      <th>name</th>\n",
       "      <th>link</th>\n",
       "      <th>disease</th>\n",
       "    </tr>\n",
       "  </thead>\n",
       "  <tbody>\n",
       "    <tr>\n",
       "      <th>0</th>\n",
       "      <td>Dr. Amarpreet Singh Riar</td>\n",
       "      <td>https://www.practo.com/delhi/doctor/amarpreet-...</td>\n",
       "      <td>(vertigo) Paroymsal  Positional Vertigo</td>\n",
       "    </tr>\n",
       "    <tr>\n",
       "      <th>1</th>\n",
       "      <td>Dr. (Maj.)Sharad Shrivastava</td>\n",
       "      <td>https://www.practo.com/delhi/doctor/dr-54-gene...</td>\n",
       "      <td>AIDS</td>\n",
       "    </tr>\n",
       "    <tr>\n",
       "      <th>2</th>\n",
       "      <td>Dr. Anirban Biswas</td>\n",
       "      <td>https://www.practo.com/delhi/doctor/anirban-bi...</td>\n",
       "      <td>Acne</td>\n",
       "    </tr>\n",
       "    <tr>\n",
       "      <th>3</th>\n",
       "      <td>Dr. Aman Vij</td>\n",
       "      <td>https://www.practo.com/delhi/doctor/dr-aman-vi...</td>\n",
       "      <td>Alcoholic hepatitis</td>\n",
       "    </tr>\n",
       "    <tr>\n",
       "      <th>4</th>\n",
       "      <td>Dr. Mansi Arya</td>\n",
       "      <td>https://www.practo.com/delhi/doctor/dr-mansi-a...</td>\n",
       "      <td>Allergy</td>\n",
       "    </tr>\n",
       "  </tbody>\n",
       "</table>\n",
       "</div>"
      ],
      "text/plain": [
       "                           name  \\\n",
       "0      Dr. Amarpreet Singh Riar   \n",
       "1  Dr. (Maj.)Sharad Shrivastava   \n",
       "2            Dr. Anirban Biswas   \n",
       "3                  Dr. Aman Vij   \n",
       "4                Dr. Mansi Arya   \n",
       "\n",
       "                                                link  \\\n",
       "0  https://www.practo.com/delhi/doctor/amarpreet-...   \n",
       "1  https://www.practo.com/delhi/doctor/dr-54-gene...   \n",
       "2  https://www.practo.com/delhi/doctor/anirban-bi...   \n",
       "3  https://www.practo.com/delhi/doctor/dr-aman-vi...   \n",
       "4  https://www.practo.com/delhi/doctor/dr-mansi-a...   \n",
       "\n",
       "                                   disease  \n",
       "0  (vertigo) Paroymsal  Positional Vertigo  \n",
       "1                                     AIDS  \n",
       "2                                     Acne  \n",
       "3                      Alcoholic hepatitis  \n",
       "4                                  Allergy  "
      ]
     },
     "execution_count": 11,
     "metadata": {},
     "output_type": "execute_result"
    }
   ],
   "source": [
    "diseases = dimensionality_reduction.index\n",
    "diseases = pd.DataFrame(diseases)\n",
    "\n",
    "doctors = pd.DataFrame()\n",
    "doctors['name'] = np.nan\n",
    "doctors['link'] = np.nan\n",
    "doctors['disease'] = np.nan\n",
    "\n",
    "doctors['disease'] = diseases['prognosis']\n",
    "\n",
    "\n",
    "doctors['name'] = doc_dataset['Name']\n",
    "doctors['link'] = doc_dataset['Description']\n",
    "\n",
    "record = doctors[doctors['disease'] == 'AIDS']\n",
    "doctors.head()"
   ]
  },
  {
   "cell_type": "code",
   "execution_count": 14,
   "id": "c36acebb",
   "metadata": {},
   "outputs": [
    {
     "data": {
      "image/png": "[encoded data removed]",
      "text/plain": [
       "<Figure size 640x480 with 1 Axes>"
      ]
     },
     "metadata": {},
     "output_type": "display_data"
    }
   ],
   "source": [
    "from sklearn.tree import  plot_tree\n",
    "plot_tree(classifier, filled= True)\n",
    "plt.show()"
   ]
  },
  {
   "cell_type": "code",
   "execution_count": 12,
   "id": "9f4df5d6",
   "metadata": {},
   "outputs": [],
   "source": [
    "data_dict = {\"model\": classifier}\n",
    "for col in training_dataset.columns:\n",
    "    data_dict[str(col)] = col"
   ]
  },
  {
   "cell_type": "code",
   "execution_count": 13,
   "id": "40a7c113",
   "metadata": {},
   "outputs": [],
   "source": [
    "import pickle\n",
    "with open('saved_health_model.pkl', 'wb') as file:\n",
    "    pickle.dump(data_dict, file)\n"
   ]
  },
  {
   "cell_type": "code",
   "execution_count": 14,
   "id": "d65bab07",
   "metadata": {},
   "outputs": [
    {
     "name": "stdout",
     "output_type": "stream",
     "text": [
      "Please reply with yes/Yes or no/No for the following symptoms\n",
      "slurred_speech ?\n",
      "yes\n",
      "['You may have Hypoglycemia']\n",
      "\n",
      "symptoms present  ['slurred_speech']\n",
      "\n",
      "symptoms given ['vomiting', 'fatigue', 'anxiety', 'sweating', 'headache', 'nausea', 'blurred_and_distorted_vision', 'excessive_hunger', 'drying_and_tingling_lips', 'slurred_speech', 'irritability', 'palpitations']\n",
      "\n",
      "confidence level is 0.08333333333333333\n",
      "\n",
      "The model suggests:\n",
      "\n",
      "Consult  ['Dr. Jyoti Arora Monga']\n",
      "\n",
      "Visit  ['https://www.practo.com/delhi/doctor/dr-jyoti-arora-ayurveda?specialization=Ayurveda&practice_id=693424']\n"
     ]
    }
   ],
   "source": [
    "execute_bot()"
   ]
  },
  {
   "cell_type": "markdown",
   "id": "c4464d30",
   "metadata": {},
   "source": [
    "**Naive Bayes Classifier**"
   ]
  },
  {
   "cell_type": "code",
   "execution_count": 15,
   "id": "725a4113",
   "metadata": {},
   "outputs": [
    {
     "data": {
      "text/plain": [
       "GaussianNB()"
      ]
     },
     "execution_count": 15,
     "metadata": {},
     "output_type": "execute_result"
    }
   ],
   "source": [
    "from sklearn.naive_bayes import GaussianNB\n",
    "clf = GaussianNB()\n",
    "clf.fit(X_train, y_train)"
   ]
  },
  {
   "cell_type": "code",
   "execution_count": 16,
   "id": "ebf41379",
   "metadata": {},
   "outputs": [],
   "source": [
    "data_dict1 = {\"model\": clf}\n",
    "data_dict1[\"encoder\"] =labelencoder\n",
    "data_dict1[\"dataset\"] = doctors\n",
    "for col in training_dataset.columns:\n",
    "    data_dict1[str(col)] = col"
   ]
  },
  {
   "cell_type": "code",
   "execution_count": 17,
   "id": "15b9ff02",
   "metadata": {},
   "outputs": [],
   "source": [
    "with open('saved_health_model_nb.pkl', 'wb') as file1:\n",
    "    pickle.dump(data_dict1, file1)"
   ]
  },
  {
   "cell_type": "code",
   "execution_count": 18,
   "id": "8d5c61f0",
   "metadata": {},
   "outputs": [],
   "source": [
    "numbers = X_test.shape[1]"
   ]
  },
  {
   "cell_type": "code",
   "execution_count": 19,
   "id": "c2a48f58",
   "metadata": {},
   "outputs": [],
   "source": [
    "import random"
   ]
  },
  {
   "cell_type": "code",
   "execution_count": 20,
   "id": "a37a6df9",
   "metadata": {},
   "outputs": [],
   "source": [
    "randomLabel = np.array(np.random.randint(2, size=numbers)).reshape(1,-1)"
   ]
  },
  {
   "cell_type": "code",
   "execution_count": 21,
   "id": "c1ab3cc2",
   "metadata": {},
   "outputs": [],
   "source": [
    "value =clf.predict(randomLabel)"
   ]
  },
  {
   "cell_type": "code",
   "execution_count": 22,
   "id": "bdad9455",
   "metadata": {},
   "outputs": [
    {
     "data": {
      "text/plain": [
       "array(['hepatitis A'], dtype=object)"
      ]
     },
     "execution_count": 22,
     "metadata": {},
     "output_type": "execute_result"
    }
   ],
   "source": [
    "disease = labelencoder.inverse_transform(value)\n",
    "disease[0]"
   ]
  },
  {
   "cell_type": "code",
   "execution_count": 24,
   "id": "410a9a76",
   "metadata": {},
   "outputs": [
    {
     "data": {
      "text/plain": [
       "'hepatitis A'"
      ]
     },
     "execution_count": 24,
     "metadata": {},
     "output_type": "execute_result"
    }
   ],
   "source": [
    "disease[0]"
   ]
  },
  {
   "cell_type": "code",
   "execution_count": 32,
   "id": "9a221495",
   "metadata": {},
   "outputs": [],
   "source": [
    "pre = (doctors.loc[doctors['disease'] == disease[0]])"
   ]
  },
  {
   "cell_type": "code",
   "execution_count": 39,
   "id": "d292932f",
   "metadata": {},
   "outputs": [
    {
     "data": {
      "text/html": [
       "<div>\n",
       "<style scoped>\n",
       "    .dataframe tbody tr th:only-of-type {\n",
       "        vertical-align: middle;\n",
       "    }\n",
       "\n",
       "    .dataframe tbody tr th {\n",
       "        vertical-align: top;\n",
       "    }\n",
       "\n",
       "    .dataframe thead th {\n",
       "        text-align: right;\n",
       "    }\n",
       "</style>\n",
       "<table border=\"1\" class=\"dataframe\">\n",
       "  <thead>\n",
       "    <tr style=\"text-align: right;\">\n",
       "      <th></th>\n",
       "      <th>name</th>\n",
       "      <th>link</th>\n",
       "      <th>disease</th>\n",
       "    </tr>\n",
       "  </thead>\n",
       "  <tbody>\n",
       "    <tr>\n",
       "      <th>40</th>\n",
       "      <td>Dr. Gayatri Bala Juneja</td>\n",
       "      <td>https://www.practo.com/delhi/doctor/dr-gayatri...</td>\n",
       "      <td>hepatitis A</td>\n",
       "    </tr>\n",
       "  </tbody>\n",
       "</table>\n",
       "</div>"
      ],
      "text/plain": [
       "                       name  \\\n",
       "40  Dr. Gayatri Bala Juneja   \n",
       "\n",
       "                                                 link      disease  \n",
       "40  https://www.practo.com/delhi/doctor/dr-gayatri...  hepatitis A  "
      ]
     },
     "execution_count": 39,
     "metadata": {},
     "output_type": "execute_result"
    }
   ],
   "source": [
    "pre"
   ]
  }
 ],
 "metadata": {
  "kernelspec": {
   "display_name": "Python 3",
   "language": "python",
   "name": "python3"
  },
  "language_info": {
   "codemirror_mode": {
    "name": "ipython",
    "version": 3
   },
   "file_extension": ".py",
   "mimetype": "text/x-python",
   "name": "python",
   "nbconvert_exporter": "python",
   "pygments_lexer": "ipython3",
   "version": "3.8.8"
  }
 },
 "nbformat": 4,
 "nbformat_minor": 5
}
